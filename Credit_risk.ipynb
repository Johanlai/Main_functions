{
 "cells": [
  {
   "cell_type": "markdown",
   "id": "71a30545",
   "metadata": {},
   "source": [
    "# ZCB using credit spread"
   ]
  },
  {
   "cell_type": "code",
   "execution_count": 3,
   "id": "69c36502",
   "metadata": {},
   "outputs": [],
   "source": [
    "import numpy as np"
   ]
  },
  {
   "cell_type": "markdown",
   "id": "ab7ab521",
   "metadata": {},
   "source": [
    "def cs(PD, Rec, rf, T, N=100):\n",
    "    return -(1/T)*np.log((1-PD)*(1-Rec)+Rec)\n",
    "cs(0.045, 0.4, 0.018, 3)"
   ]
  },
  {
   "cell_type": "code",
   "execution_count": 15,
   "id": "243d31d1",
   "metadata": {},
   "outputs": [],
   "source": [
    "def price_ZCB_creditspread(PD, Rec, rf, T):\n",
    "    def cs(PD, Rec, rf, T, N=100):\n",
    "        return -(1/T)*np.log((1-PD)*(1-Rec)+Rec)\n",
    "    return np.exp((rf+cs(PD, Rec, rf, T))*-1*T)\n",
    "#V_D = np.exp((rf+cs(PD, R, rf, T))*-1*3)\n",
    "#V_D"
   ]
  },
  {
   "cell_type": "code",
   "execution_count": 17,
   "id": "1ae47686",
   "metadata": {},
   "outputs": [
    {
     "data": {
      "text/plain": [
       "0.9218514396262497"
      ]
     },
     "execution_count": 17,
     "metadata": {},
     "output_type": "execute_result"
    }
   ],
   "source": [
    "price_ZCB_creditspread(PD=0.045, Rec=0.4, rf=0.018, T=3)"
   ]
  },
  {
   "cell_type": "markdown",
   "id": "5dd6fb4c",
   "metadata": {},
   "source": [
    "# Pricing risk coupon bonds"
   ]
  },
  {
   "cell_type": "code",
   "execution_count": 2,
   "id": "1a6a35c2",
   "metadata": {},
   "outputs": [],
   "source": [
    "import math"
   ]
  },
  {
   "cell_type": "code",
   "execution_count": 8,
   "id": "5648ae45",
   "metadata": {},
   "outputs": [],
   "source": [
    "def price_risky_coupon_bond(term_structure, c, m, Rec, N=100):\n",
    "    \"\"\"\n",
    "    term stucture: nest dict of {dict: terms, keys: spot_rate, survival_prob}\n",
    "    \"\"\"\n",
    "    def discount(spot_rate, spot=True, t=1):\n",
    "        \"\"\"\n",
    "        or discount factor: spot_rate=False for reverse\n",
    "        \"\"\"\n",
    "        if spot==True:\n",
    "            return math.exp(-spot_rate*t)\n",
    "        else: return -np.log(spot_rate)/t\n",
    "    def sum1(term_structure):\n",
    "        sum = 0\n",
    "        for x in term_structure:\n",
    "            sum += discount(term_structure[x]['spot_rate'], t=x)*term_structure[x]['survival_prob']\n",
    "        return sum\n",
    "\n",
    "    def sum2(term_structure):\n",
    "        sum = 0\n",
    "        for i,x in enumerate(term_structure):\n",
    "            if i == 0:\n",
    "                sum += discount(term_structure[x]['spot_rate'], t=x)*\\\n",
    "                (1-term_structure[x]['survival_prob'])\n",
    "            else:\n",
    "                sum += discount(term_structure[x]['spot_rate'], t=x)*\\\n",
    "                (term_structure[list(term_structure)[i-1]]['survival_prob']-\\\n",
    "                 term_structure[x]['survival_prob'])\n",
    "        return sum\n",
    "    return (c/m)*N*sum1(term_structure) \\\n",
    "    + term_structure[list(term_structure)[-1]]['survival_prob']\\\n",
    "    * discount(term_structure[list(term_structure)[-1]]['spot_rate'],t=list(term_structure)[-1])*N\\\n",
    "    + N*Rec*sum2(term_structure)"
   ]
  },
  {
   "cell_type": "code",
   "execution_count": 9,
   "id": "e55149bc",
   "metadata": {},
   "outputs": [
    {
     "data": {
      "text/plain": [
       "99.50102576461744"
      ]
     },
     "execution_count": 9,
     "metadata": {},
     "output_type": "execute_result"
    }
   ],
   "source": [
    "#eg 1\n",
    "term_structure = {\n",
    "    0.5: {'spot_rate': 0.025, 'survival_prob': 0.93},\n",
    "    1: {'spot_rate': 0.03, 'survival_prob': 0.91}\n",
    "}\n",
    "price_risky_coupon_bond(term_structure, c=0.08, m=2, Rec=0.45)"
   ]
  },
  {
   "cell_type": "code",
   "execution_count": 10,
   "id": "f98fdcf1",
   "metadata": {},
   "outputs": [
    {
     "data": {
      "text/plain": [
       "0.9871920372218514"
      ]
     },
     "execution_count": 10,
     "metadata": {},
     "output_type": "execute_result"
    }
   ],
   "source": [
    "#eg 2\n",
    "term_structure = {\n",
    "    0.5: {'spot_rate': 0.03, 'survival_prob': 0.98},\n",
    "    1: {'spot_rate': 0.035, 'survival_prob': 0.94}\n",
    "}\n",
    "price_risky_coupon_bond(term_structure, c=0.06, m=2, Rec=0.4, N=1)"
   ]
  },
  {
   "cell_type": "markdown",
   "id": "e812c327",
   "metadata": {},
   "source": [
    "# Bootstapping implied survival probability "
   ]
  },
  {
   "cell_type": "code",
   "execution_count": 119,
   "id": "cc3edf5a",
   "metadata": {},
   "outputs": [
    {
     "data": {
      "text/plain": [
       "0.9059343434343433"
      ]
     },
     "execution_count": 119,
     "metadata": {},
     "output_type": "execute_result"
    }
   ],
   "source": [
    "#eg1\n",
    "bonds = {\n",
    "    1: {'c':0.04, 'p':0.97, 'd':0.99},\n",
    "    2: {'c':0.05, 'p':0.96, 'd':0.98}\n",
    "}\n",
    "N = 1\n",
    "Rec = 0.4\n",
    "m =1\n",
    "\n",
    "Q = ((bonds[1]['p']/N)-Rec*bonds[1]['d'])/(bonds[1]['d']*(1+bonds[1]['c']/m-Rec))\n",
    "Q"
   ]
  },
  {
   "cell_type": "code",
   "execution_count": 57,
   "id": "1cb32b64",
   "metadata": {},
   "outputs": [],
   "source": [
    "def discount(spot_rate, spot=True, t=1):\n",
    "    \"\"\"\n",
    "    or discount factor: spot_rate=False for reverse\n",
    "    \"\"\"\n",
    "    if spot==True:\n",
    "        return math.exp(-spot_rate*t)\n",
    "    else: return -np.log(spot_rate)/t\n",
    "    \n",
    "bonds = {\n",
    "    0.5: {'c':0.04, 'p':0.95, 'd':discount(0.02, t=0.5)},\n",
    "    1: {'c':0.05, 'p':0.96, 'd':discount(0.03, t=1)}\n",
    "}\n",
    "N = 1\n",
    "Rec = 0.4\n",
    "m = 2"
   ]
  },
  {
   "cell_type": "code",
   "execution_count": 67,
   "id": "04e3c213",
   "metadata": {
    "scrolled": true
   },
   "outputs": [
    {
     "data": {
      "text/plain": [
       "{0.5: {'c': 0.04, 'p': 0.95, 'd': 0.9900498337491681, 'Q': 0.9024962237579992},\n",
       " 1: {'c': 0.05, 'p': 0.96, 'd': 0.9704455335485082}}"
      ]
     },
     "execution_count": 67,
     "metadata": {},
     "output_type": "execute_result"
    }
   ],
   "source": [
    "bonds[0.5]['Q'] = ((bonds[0.5]['p']/bonds[0.5]['d'])-Rec)/(1+bonds[0.5]['c']/m-Rec)\n",
    "bonds"
   ]
  },
  {
   "cell_type": "code",
   "execution_count": null,
   "id": "50dbd4d3",
   "metadata": {},
   "outputs": [],
   "source": [
    "bonds = {\n",
    "    0.5: {'c':0.04, 'p':0.95, 'd':discount(0.02, t=0.5)},\n",
    "    1: {'c':0.05, 'p':0.96, 'd':discount(0.03, t=1)}\n",
    "}\n",
    "def implied_survival_probs(bonds, N=100, Rec=0.4, m=2, T=list(bonds)[-1]):\n",
    "    for i,x in enumerate(bonds):\n",
    "        if i == 0:\n",
    "            bonds[x]['Q'] = ((bonds[x]['p']/bonds[x]['d'])-Rec)/(1+bonds[x]['c']/m-Rec)\n",
    "        else:\n",
    "            sums = np.zeros(2)\n",
    "            sums[0] += bonds[list(bonds)[i-1]]['d']*\\\n",
    "            (Rec*(1-bonds[list(bonds)[i-1]]['Q'])+\\\n",
    "             (bonds[x]['c']/m)*bonds[list(bonds)[i-1]]['Q'])\n",
    "            sums[1] += Rec*bonds[x]['d']*bonds[list(bonds)[i-1]]['Q']\n",
    "            bonds[x]['Q'] = (bonds[list(bonds)[-1]]['p']-sum(sums))/(bonds[list(bonds)[-1]]['d']*((1+((bonds[list(bonds)[-1]]['c']/m))-Rec)))\n",
    "    return bonds[T]\n",
    "\n",
    "implied_survival_probs(bonds) "
   ]
  },
  {
   "cell_type": "markdown",
   "id": "354fdae9",
   "metadata": {},
   "source": [
    "# TEST"
   ]
  },
  {
   "attachments": {
    "image.png": {
     "image/png": "[encoded data removed]"
    }
   },
   "cell_type": "markdown",
   "id": "f2e84a3b",
   "metadata": {},
   "source": [
    "![image.png](attachment:image.png)"
   ]
  },
  {
   "cell_type": "code",
   "execution_count": 98,
   "id": "2a409212",
   "metadata": {},
   "outputs": [
    {
     "data": {
      "text/plain": [
       "0.9046883321599666"
      ]
     },
     "execution_count": 98,
     "metadata": {},
     "output_type": "execute_result"
    }
   ],
   "source": [
    "#GOOOOD\n",
    "(0.96-((math.exp(-0.02*0.5)*(Rec*(1-Q)+0.025*Q))+(math.exp(-0.03)*Rec*Q)))/(math.exp(-0.03)*(1.025-Rec))"
   ]
  },
  {
   "cell_type": "code",
   "execution_count": 83,
   "id": "1354600e",
   "metadata": {},
   "outputs": [
    {
     "data": {
      "text/plain": [
       "0.06094994289018318"
      ]
     },
     "execution_count": 83,
     "metadata": {},
     "output_type": "execute_result"
    }
   ],
   "source": [
    "#sum1\n",
    "math.exp(-0.02*0.5)*(Rec*(1-Q)+0.025*Q)"
   ]
  },
  {
   "cell_type": "code",
   "execution_count": 54,
   "id": "8d55ab21",
   "metadata": {},
   "outputs": [
    {
     "data": {
      "text/plain": [
       "0.35033083761101147"
      ]
     },
     "execution_count": 54,
     "metadata": {},
     "output_type": "execute_result"
    }
   ],
   "source": [
    "# Sum2\n",
    "math.exp(-0.03)*Rec*Q"
   ]
  },
  {
   "cell_type": "code",
   "execution_count": 66,
   "id": "6006b704",
   "metadata": {},
   "outputs": [
    {
     "data": {
      "text/plain": [
       "{0.5: {'c': 0.04, 'p': 0.95, 'd': 0.9900498337491681},\n",
       " 1: {'c': 0.05, 'p': 0.96, 'd': 0.9704455335485082}}"
      ]
     },
     "execution_count": 66,
     "metadata": {},
     "output_type": "execute_result"
    }
   ],
   "source": [
    "bonds"
   ]
  },
  {
   "cell_type": "code",
   "execution_count": 79,
   "id": "a741e787",
   "metadata": {},
   "outputs": [
    {
     "data": {
      "text/plain": [
       "0.5"
      ]
     },
     "execution_count": 79,
     "metadata": {},
     "output_type": "execute_result"
    }
   ],
   "source": [
    "list(bonds)[1-1]"
   ]
  },
  {
   "cell_type": "code",
   "execution_count": 88,
   "id": "ce2d89b4",
   "metadata": {},
   "outputs": [
    {
     "data": {
      "text/plain": [
       "0.0"
      ]
     },
     "execution_count": 88,
     "metadata": {},
     "output_type": "execute_result"
    }
   ],
   "source": [
    "import numpy as np\n",
    "np.zeros(2)[1]"
   ]
  },
  {
   "cell_type": "code",
   "execution_count": 112,
   "id": "c176e33b",
   "metadata": {},
   "outputs": [
    {
     "data": {
      "text/plain": [
       "0.9046884374385575"
      ]
     },
     "execution_count": 112,
     "metadata": {},
     "output_type": "execute_result"
    }
   ],
   "source": [
    "sums = np.zeros(2)\n",
    "for i,x in enumerate(bonds):\n",
    "    if i == 0:\n",
    "        pass\n",
    "    else:\n",
    "        sums[0] += bonds[list(bonds)[i-1]]['d']*\\\n",
    "        (Rec*(1-bonds[list(bonds)[i-1]]['Q'])+\\\n",
    "         (bonds[x]['c']/m)*bonds[list(bonds)[i-1]]['Q'])\n",
    "        sums[1] += Rec*bonds[x]['d']*bonds[list(bonds)[i-1]]['Q']\n",
    "(bonds[list(bonds)[-1]]['p']-sum(sums))/(bonds[list(bonds)[-1]]['d']*((1+((bonds[list(bonds)[-1]]['c']/m))-Rec)))"
   ]
  },
  {
   "cell_type": "code",
   "execution_count": 107,
   "id": "ee5e63cc",
   "metadata": {},
   "outputs": [
    {
     "data": {
      "text/plain": [
       "0.96"
      ]
     },
     "execution_count": 107,
     "metadata": {},
     "output_type": "execute_result"
    }
   ],
   "source": [
    "bonds[list(bonds)[-1]]['p']"
   ]
  },
  {
   "cell_type": "code",
   "execution_count": 106,
   "id": "5afb56f9",
   "metadata": {},
   "outputs": [
    {
     "data": {
      "text/plain": [
       "{'c': 0.05, 'p': 0.96, 'd': 0.9704455335485082}"
      ]
     },
     "execution_count": 106,
     "metadata": {},
     "output_type": "execute_result"
    }
   ],
   "source": [
    "bonds[list(bonds)[-1]]"
   ]
  },
  {
   "cell_type": "code",
   "execution_count": 113,
   "id": "fa35c77f",
   "metadata": {},
   "outputs": [],
   "source": [
    "test = [1.2,1.4,1.6,1.8]"
   ]
  },
  {
   "cell_type": "code",
   "execution_count": 123,
   "id": "cb1c482e",
   "metadata": {},
   "outputs": [
    {
     "data": {
      "text/plain": [
       "2"
      ]
     },
     "execution_count": 123,
     "metadata": {},
     "output_type": "execute_result"
    }
   ],
   "source": [
    "np.where(np.array(test) == 1.6)[0][0]"
   ]
  },
  {
   "cell_type": "code",
   "execution_count": 136,
   "id": "c6739f4b",
   "metadata": {},
   "outputs": [],
   "source": [
    "bonds = {\n",
    "    0.5: {'c':0.04, 'p':0.95, 'd':discount(0.02, t=0.5)},\n",
    "    1: {'c':0.05, 'p':0.96, 'd':discount(0.03, t=1)}\n",
    "}\n",
    "def implied_survival_probs(bonds, N=100, Rec=0.4, m=2, T=list(bonds)[-1]):\n",
    "    for i,x in enumerate(bonds):\n",
    "        if i == 0:\n",
    "            bonds[x]['Q'] = ((bonds[x]['p']/bonds[x]['d'])-Rec)/(1+bonds[x]['c']/m-Rec)\n",
    "        else:\n",
    "            sums = np.zeros(2)\n",
    "            sums[0] += bonds[list(bonds)[i-1]]['d']*\\\n",
    "            (Rec*(1-bonds[list(bonds)[i-1]]['Q'])+\\\n",
    "             (bonds[x]['c']/m)*bonds[list(bonds)[i-1]]['Q'])\n",
    "            sums[1] += Rec*bonds[x]['d']*bonds[list(bonds)[i-1]]['Q']\n",
    "            bonds[x]['Q'] = (bonds[list(bonds)[-1]]['p']-sum(sums))/(bonds[list(bonds)[-1]]['d']*((1+((bonds[list(bonds)[-1]]['c']/m))-Rec)))\n",
    "    return bonds[T]\n",
    "\n",
    "implied_survival_probs(bonds) "
   ]
  },
  {
   "cell_type": "code",
   "execution_count": null,
   "id": "96fc4c2a",
   "metadata": {},
   "outputs": [],
   "source": []
  },
  {
   "cell_type": "code",
   "execution_count": null,
   "id": "390fde4a",
   "metadata": {},
   "outputs": [],
   "source": []
  },
  {
   "cell_type": "code",
   "execution_count": null,
   "id": "4ef794ea",
   "metadata": {},
   "outputs": [],
   "source": []
  },
  {
   "cell_type": "code",
   "execution_count": null,
   "id": "692121c6",
   "metadata": {},
   "outputs": [],
   "source": []
  }
 ],
 "metadata": {
  "kernelspec": {
   "display_name": "Python 3 (ipykernel)",
   "language": "python",
   "name": "python3"
  },
  "language_info": {
   "codemirror_mode": {
    "name": "ipython",
    "version": 3
   },
   "file_extension": ".py",
   "mimetype": "text/x-python",
   "name": "python",
   "nbconvert_exporter": "python",
   "pygments_lexer": "ipython3",
   "version": "3.9.13"
  }
 },
 "nbformat": 4,
 "nbformat_minor": 5
}
