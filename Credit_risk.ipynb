{
 "cells": [
  {
   "cell_type": "code",
   "execution_count": 1,
   "id": "3e3e8a7e",
   "metadata": {},
   "outputs": [],
   "source": [
    "import numpy as np\n",
    "import pandas as pd\n",
    "import math"
   ]
  },
  {
   "cell_type": "markdown",
   "id": "432b2e88",
   "metadata": {},
   "source": [
    "# Risk free spot rate (continuously compounded) to discounted factor"
   ]
  },
  {
   "cell_type": "code",
   "execution_count": 125,
   "id": "d0df74ed",
   "metadata": {},
   "outputs": [],
   "source": [
    "def discount(spot_rate, spot=True, t=1):\n",
    "    \"\"\"\n",
    "    or discount factor: spot_rate=False for reverse\n",
    "    \"\"\"\n",
    "    if spot==True:\n",
    "        return math.exp(-spot_rate*t)\n",
    "    else: return -np.log(spot_rate)/t"
   ]
  },
  {
   "cell_type": "markdown",
   "id": "93c294d9",
   "metadata": {},
   "source": [
    "# Bonds"
   ]
  },
  {
   "cell_type": "markdown",
   "id": "b2c8a249",
   "metadata": {},
   "source": [
    "### ZCB using credit spread"
   ]
  },
  {
   "cell_type": "code",
   "execution_count": 3,
   "id": "e035d259",
   "metadata": {},
   "outputs": [],
   "source": [
    "import numpy as np"
   ]
  },
  {
   "cell_type": "markdown",
   "id": "a18b1dc1",
   "metadata": {},
   "source": [
    "def cs(PD, Rec, rf, T, N=100):\n",
    "    return -(1/T)*np.log((1-PD)*(1-Rec)+Rec)\n",
    "cs(0.045, 0.4, 0.018, 3)"
   ]
  },
  {
   "cell_type": "code",
   "execution_count": 15,
   "id": "d2c0ba83",
   "metadata": {},
   "outputs": [],
   "source": [
    "def price_ZCB_creditspread(PD, Rec, rf, T):\n",
    "    def cs(PD, Rec, rf, T, N=100):\n",
    "        return -(1/T)*np.log((1-PD)*(1-Rec)+Rec)\n",
    "    return np.exp((rf+cs(PD, Rec, rf, T))*-1*T)\n",
    "#V_D = np.exp((rf+cs(PD, R, rf, T))*-1*3)\n",
    "#V_D"
   ]
  },
  {
   "cell_type": "code",
   "execution_count": 17,
   "id": "93a3e655",
   "metadata": {},
   "outputs": [
    {
     "data": {
      "text/plain": [
       "0.9218514396262497"
      ]
     },
     "execution_count": 17,
     "metadata": {},
     "output_type": "execute_result"
    }
   ],
   "source": [
    "price_ZCB_creditspread(PD=0.045, Rec=0.4, rf=0.018, T=3)"
   ]
  },
  {
   "cell_type": "markdown",
   "id": "266628b9",
   "metadata": {},
   "source": [
    "### Pricing risk coupon bonds - from survival probilities"
   ]
  },
  {
   "cell_type": "code",
   "execution_count": 2,
   "id": "1a6a35c2",
   "metadata": {},
   "outputs": [],
   "source": [
    "import math"
   ]
  },
  {
   "cell_type": "code",
   "execution_count": 8,
   "id": "5648ae45",
   "metadata": {},
   "outputs": [],
   "source": [
    "def price_risky_coupon_bond(term_structure, c, m, Rec, N=100):\n",
    "    \"\"\"\n",
    "    term stucture: nest dict of {dict: terms, keys: spot_rate, survival_prob}\n",
    "    \"\"\"\n",
    "    def discount(spot_rate, spot=True, t=1):\n",
    "        \"\"\"\n",
    "        or discount factor: spot_rate=False for reverse\n",
    "        \"\"\"\n",
    "        if spot==True:\n",
    "            return math.exp(-spot_rate*t)\n",
    "        else: return -np.log(spot_rate)/t\n",
    "    def sum1(term_structure):\n",
    "        sum = 0\n",
    "        for x in term_structure:\n",
    "            sum += discount(term_structure[x]['spot_rate'], t=x)*term_structure[x]['survival_prob']\n",
    "        return sum\n",
    "\n",
    "    def sum2(term_structure):\n",
    "        sum = 0\n",
    "        for i,x in enumerate(term_structure):\n",
    "            if i == 0:\n",
    "                sum += discount(term_structure[x]['spot_rate'], t=x)*\\\n",
    "                (1-term_structure[x]['survival_prob'])\n",
    "            else:\n",
    "                sum += discount(term_structure[x]['spot_rate'], t=x)*\\\n",
    "                (term_structure[list(term_structure)[i-1]]['survival_prob']-\\\n",
    "                 term_structure[x]['survival_prob'])\n",
    "        return sum\n",
    "    return (c/m)*N*sum1(term_structure) \\\n",
    "    + term_structure[list(term_structure)[-1]]['survival_prob']\\\n",
    "    * discount(term_structure[list(term_structure)[-1]]['spot_rate'],t=list(term_structure)[-1])*N\\\n",
    "    + N*Rec*sum2(term_structure)"
   ]
  },
  {
   "cell_type": "code",
   "execution_count": 9,
   "id": "e55149bc",
   "metadata": {},
   "outputs": [
    {
     "data": {
      "text/plain": [
       "99.50102576461744"
      ]
     },
     "execution_count": 9,
     "metadata": {},
     "output_type": "execute_result"
    }
   ],
   "source": [
    "#eg 1\n",
    "term_structure = {\n",
    "    0.5: {'spot_rate': 0.025, 'survival_prob': 0.93},\n",
    "    1: {'spot_rate': 0.03, 'survival_prob': 0.91}\n",
    "}\n",
    "price_risky_coupon_bond(term_structure, c=0.08, m=2, Rec=0.45)"
   ]
  },
  {
   "cell_type": "code",
   "execution_count": 10,
   "id": "f98fdcf1",
   "metadata": {},
   "outputs": [
    {
     "data": {
      "text/plain": [
       "0.9871920372218514"
      ]
     },
     "execution_count": 10,
     "metadata": {},
     "output_type": "execute_result"
    }
   ],
   "source": [
    "#eg 2\n",
    "term_structure = {\n",
    "    0.5: {'spot_rate': 0.03, 'survival_prob': 0.98},\n",
    "    1: {'spot_rate': 0.035, 'survival_prob': 0.94}\n",
    "}\n",
    "price_risky_coupon_bond(term_structure, c=0.06, m=2, Rec=0.4, N=1)"
   ]
  },
  {
   "cell_type": "markdown",
   "id": "d200cd62",
   "metadata": {},
   "source": [
    "### Bootstapping implied survival probability - from bond prices"
   ]
  },
  {
   "cell_type": "code",
   "execution_count": 119,
   "id": "606154bf",
   "metadata": {},
   "outputs": [
    {
     "data": {
      "text/plain": [
       "0.9059343434343433"
      ]
     },
     "execution_count": 119,
     "metadata": {},
     "output_type": "execute_result"
    }
   ],
   "source": [
    "#eg1\n",
    "bonds = {\n",
    "    1: {'c':0.04, 'p':0.97, 'd':0.99},\n",
    "    2: {'c':0.05, 'p':0.96, 'd':0.98}\n",
    "}\n",
    "N = 1\n",
    "Rec = 0.4\n",
    "m =1\n",
    "\n",
    "Q = ((bonds[1]['p']/N)-Rec*bonds[1]['d'])/(bonds[1]['d']*(1+bonds[1]['c']/m-Rec))\n",
    "Q"
   ]
  },
  {
   "cell_type": "code",
   "execution_count": 57,
   "id": "3bdcb882",
   "metadata": {},
   "outputs": [],
   "source": [
    "\n",
    "    \n",
    "bonds = {\n",
    "    0.5: {'c':0.04, 'p':0.95, 'd':discount(0.02, t=0.5)},\n",
    "    1: {'c':0.05, 'p':0.96, 'd':discount(0.03, t=1)}\n",
    "}\n",
    "N = 1\n",
    "Rec = 0.4\n",
    "m = 2"
   ]
  },
  {
   "cell_type": "code",
   "execution_count": 67,
   "id": "eb9a8102",
   "metadata": {
    "scrolled": true
   },
   "outputs": [
    {
     "data": {
      "text/plain": [
       "{0.5: {'c': 0.04, 'p': 0.95, 'd': 0.9900498337491681, 'Q': 0.9024962237579992},\n",
       " 1: {'c': 0.05, 'p': 0.96, 'd': 0.9704455335485082}}"
      ]
     },
     "execution_count": 67,
     "metadata": {},
     "output_type": "execute_result"
    }
   ],
   "source": [
    "bonds[0.5]['Q'] = ((bonds[0.5]['p']/bonds[0.5]['d'])-Rec)/(1+bonds[0.5]['c']/m-Rec)\n",
    "bonds"
   ]
  },
  {
   "cell_type": "code",
   "execution_count": 162,
   "id": "06f587e5",
   "metadata": {},
   "outputs": [
    {
     "data": {
      "text/plain": [
       "{1: {'c': 0.04, 'p': 0.97, 'd': 0.99, 'Q': 0.9351580319322255},\n",
       " 2: {'c': 0.05, 'p': 0.96, 'd': 0.98, 'Q': 0.8891354625916837}}"
      ]
     },
     "execution_count": 162,
     "metadata": {},
     "output_type": "execute_result"
    }
   ],
   "source": [
    "def implied_survival_probs(bonds, N=100, Rec=0.4, m=2, T=list(bonds)[-1]):\n",
    "    for i,x in enumerate(bonds):\n",
    "        if i == 0:\n",
    "            bonds[x]['Q'] = ((bonds[x]['p']/bonds[x]['d'])-Rec)/(1+bonds[x]['c']/m-Rec)\n",
    "        else:\n",
    "            sums = np.zeros(2)\n",
    "            sums[0] += bonds[list(bonds)[i-1]]['d']*\\\n",
    "            (Rec*(1-bonds[list(bonds)[i-1]]['Q'])+\\\n",
    "             (bonds[x]['c']/m)*bonds[list(bonds)[i-1]]['Q'])\n",
    "            sums[1] += Rec*bonds[x]['d']*bonds[list(bonds)[i-1]]['Q']\n",
    "            bonds[x]['Q'] = (bonds[list(bonds)[-1]]['p']-sum(sums))/(bonds[list(bonds)[-1]]['d']*((1+((bonds[list(bonds)[-1]]['c']/m))-Rec)))\n",
    "    return bonds\n",
    "\n",
    "implied_survival_probs(bonds) "
   ]
  },
  {
   "cell_type": "code",
   "execution_count": 163,
   "id": "b0507237",
   "metadata": {},
   "outputs": [
    {
     "data": {
      "text/plain": [
       "{0.5: {'c': 0.04, 'p': 0.95, 'd': 0.9900498337491681, 'Q': 0.9024962237579992},\n",
       " 1: {'c': 0.05, 'p': 0.96, 'd': 0.9704455335485082, 'Q': 0.9046884374385575}}"
      ]
     },
     "execution_count": 163,
     "metadata": {},
     "output_type": "execute_result"
    }
   ],
   "source": [
    "#CW1\n",
    "bonds = {\n",
    "    0.5: {'c':0.04, 'p':0.95, 'd':discount(0.02, t=0.5)},\n",
    "    1: {'c':0.05, 'p':0.96, 'd':discount(0.03, t=1)}\n",
    "}\n",
    "implied_survival_probs(bonds)"
   ]
  },
  {
   "cell_type": "code",
   "execution_count": 170,
   "id": "0e2e6e94",
   "metadata": {},
   "outputs": [
    {
     "data": {
      "text/plain": [
       "{1: {'c': 0.04, 'p': 0.97, 'd': 0.99, 'Q': 0.9059343434343433},\n",
       " 2: {'c': 0.05, 'p': 0.96, 'd': 0.98, 'Q': 0.8206907180121464}}"
      ]
     },
     "execution_count": 170,
     "metadata": {},
     "output_type": "execute_result"
    }
   ],
   "source": [
    "# Ballotta et al pg.17\n",
    "bonds = {\n",
    "    1: {'c':0.04, 'p':0.97, 'd':0.99},\n",
    "    2: {'c':0.05, 'p':0.96, 'd':0.98},\n",
    "}\n",
    "\n",
    "implied_survival_probs(bonds, m=1)"
   ]
  },
  {
   "cell_type": "code",
   "execution_count": null,
   "id": "9d4c65b0",
   "metadata": {},
   "outputs": [],
   "source": []
  },
  {
   "cell_type": "markdown",
   "id": "30ce69fe",
   "metadata": {},
   "source": [
    "# CDS - credit default swap"
   ]
  },
  {
   "cell_type": "markdown",
   "id": "2c0217e2",
   "metadata": {},
   "source": [
    "### Spread from survival probability"
   ]
  },
  {
   "cell_type": "code",
   "execution_count": 18,
   "id": "91280450",
   "metadata": {},
   "outputs": [],
   "source": [
    "def CDS_spread_computation(term_structure, Rec=0.4):\n",
    "    for i,x in enumerate(term_structure):\n",
    "        if i == 0:\n",
    "            term_structure[x]['alpha'] = 0\n",
    "        else:\n",
    "            term_structure[x]['alpha'] = x-list(term_structure)[i-1]\n",
    "            term_structure[x]['A'] = term_structure[x]['d']*term_structure[x]['Q']*term_structure[x]['alpha']\n",
    "            term_structure[x]['Ahat'] = term_structure[x]['d']*term_structure[list(term_structure)[i-1]]['Q']*term_structure[x]['alpha']\n",
    "            term_structure[x]['B'] = term_structure[x]['d']*term_structure[x]['Q']\n",
    "            term_structure[x]['Bhat'] = term_structure[x]['d']*term_structure[list(term_structure)[i-1]]['Q']\n",
    "    df = pd.DataFrame(term_structure).T\n",
    "    df.index.name = 'T'\n",
    "    return df\n",
    "def CDS_spread(term_structure, Rec=0.4):\n",
    "    df = CDS_spread_comp(term_structure, Rec)\n",
    "    R = ((1-Rec)*(df.sum()['Bhat']-df.sum()['B']))/(0.5*(df.sum()['Ahat']+df.sum()['A']))\n",
    "    return 'CDS spread (R) = {}'.format(round(R,5))"
   ]
  },
  {
   "cell_type": "code",
   "execution_count": 124,
   "id": "a1124b6b",
   "metadata": {},
   "outputs": [
    {
     "data": {
      "text/plain": [
       "(         d      Q  alpha         A      Ahat        B     Bhat\n",
       " T                                                             \n",
       " 0.00  1.00  1.000   0.00       NaN       NaN      NaN      NaN\n",
       " 0.25  0.99  0.999   0.25  0.247252  0.247500  0.98901  0.99000\n",
       " 0.50  0.98  0.994   0.25  0.243530  0.244755  0.97412  0.97902\n",
       " 0.75  0.97  0.987   0.25  0.239347  0.241045  0.95739  0.96418\n",
       " 1.00  0.96  0.977   0.25  0.234480  0.236880  0.93792  0.94752,\n",
       " 'CDS spread (R) = 0.01382')"
      ]
     },
     "execution_count": 124,
     "metadata": {},
     "output_type": "execute_result"
    }
   ],
   "source": [
    "# Lecture 3: S32 example\n",
    "term_structure ={\n",
    "    0: {'d':1, 'Q': 1},\n",
    "    0.25: {'d':0.99, 'Q':0.999},\n",
    "    0.5: {'d':0.98, 'Q':0.994},\n",
    "    0.75: {'d':0.97, 'Q':0.987},\n",
    "    1: {'d':0.96, 'Q':0.977},\n",
    "}\n",
    "CDS_spread_comp(term_structure), CDS_spread(term_structure)"
   ]
  },
  {
   "cell_type": "markdown",
   "id": "d188bc64",
   "metadata": {},
   "source": [
    "### bootstrapping survival probabilities from CDS spread"
   ]
  },
  {
   "cell_type": "code",
   "execution_count": 121,
   "id": "8a621bf7",
   "metadata": {},
   "outputs": [],
   "source": [
    "def bootstrap_survival_CDS(spreads, Rec=0.4):\n",
    "    for i,x in enumerate(spreads):\n",
    "        info = spreads\n",
    "        if i == 0:\n",
    "            info[x]['alpha'] = 0\n",
    "            info[x]['Q'] = 1\n",
    "        else:\n",
    "            info[x]['alpha']= x-list(info)[i-1]\n",
    "            if i == 1:\n",
    "                info[x]['Q']= ((1-Rec)-info[x]['cds']*info[x]['alpha']/2)/\\\n",
    "                                        ((info[x]['cds']*info[x]['alpha']/2)+(1-Rec))\n",
    "                info[x]['A']= info[x]['alpha']*info[x]['d']*info[x]['Q']\n",
    "                info[x]['Ahat']= info[x]['alpha']*info[x]['d']\n",
    "                info[x]['B']= info[x]['d']*info[x]['Q']\n",
    "                info[x]['Bhat']= info[x]['d']\n",
    "            else:\n",
    "                info[x]['Ahat']= info[x]['alpha']*info[x]['d']*info[list(info)[i-1]]['Q']+quotes[list(info)[i-1]]['Ahat']\n",
    "                info[x]['Bhat']= info[x]['d']*info[list(info)[i-1]]['Q']+info[list(info)[i-1]]['Bhat']\n",
    "                info[x]['Q']= ((1-Rec)*(info[x]['Bhat']-info[list(info)[i-1]]['B'])\\\n",
    "                    - 0.5*info[x]['cds']*(info[x]['Ahat']+info[list(info)[i-1]]['A']))\\\n",
    "                    /(info[x]['d']*(0.5*info[x]['cds']*info[x]['alpha']+(1-Rec)))\n",
    "                info[x]['A']= info[x]['alpha']*info[x]['d']*info[x]['Q']+info[list(info)[i-1]]['A']\n",
    "                info[x]['B']= info[x]['d']*info[x]['Q']+info[list(info)[i-1]]['B']\n",
    "    df = pd.DataFrame(info).T\n",
    "    df.index.name='T'\n",
    "    df = df[[col for col in df if col != 'Q']+['Q']]\n",
    "    return df\n"
   ]
  },
  {
   "cell_type": "code",
   "execution_count": 123,
   "id": "af4cf88c",
   "metadata": {},
   "outputs": [
    {
     "data": {
      "text/html": [
       "<div>\n",
       "<style scoped>\n",
       "    .dataframe tbody tr th:only-of-type {\n",
       "        vertical-align: middle;\n",
       "    }\n",
       "\n",
       "    .dataframe tbody tr th {\n",
       "        vertical-align: top;\n",
       "    }\n",
       "\n",
       "    .dataframe thead th {\n",
       "        text-align: right;\n",
       "    }\n",
       "</style>\n",
       "<table border=\"1\" class=\"dataframe\">\n",
       "  <thead>\n",
       "    <tr style=\"text-align: right;\">\n",
       "      <th></th>\n",
       "      <th>d</th>\n",
       "      <th>cds</th>\n",
       "      <th>alpha</th>\n",
       "      <th>A</th>\n",
       "      <th>Ahat</th>\n",
       "      <th>B</th>\n",
       "      <th>Bhat</th>\n",
       "      <th>Q</th>\n",
       "    </tr>\n",
       "    <tr>\n",
       "      <th>T</th>\n",
       "      <th></th>\n",
       "      <th></th>\n",
       "      <th></th>\n",
       "      <th></th>\n",
       "      <th></th>\n",
       "      <th></th>\n",
       "      <th></th>\n",
       "      <th></th>\n",
       "    </tr>\n",
       "  </thead>\n",
       "  <tbody>\n",
       "    <tr>\n",
       "      <th>0</th>\n",
       "      <td>1.000</td>\n",
       "      <td>0.000</td>\n",
       "      <td>0.0</td>\n",
       "      <td>NaN</td>\n",
       "      <td>NaN</td>\n",
       "      <td>NaN</td>\n",
       "      <td>NaN</td>\n",
       "      <td>1.000000</td>\n",
       "    </tr>\n",
       "    <tr>\n",
       "      <th>1</th>\n",
       "      <td>0.987</td>\n",
       "      <td>0.020</td>\n",
       "      <td>1.0</td>\n",
       "      <td>0.954639</td>\n",
       "      <td>0.987000</td>\n",
       "      <td>0.954639</td>\n",
       "      <td>0.987000</td>\n",
       "      <td>0.967213</td>\n",
       "    </tr>\n",
       "    <tr>\n",
       "      <th>2</th>\n",
       "      <td>0.980</td>\n",
       "      <td>0.025</td>\n",
       "      <td>1.0</td>\n",
       "      <td>1.855895</td>\n",
       "      <td>1.934869</td>\n",
       "      <td>1.855895</td>\n",
       "      <td>1.934869</td>\n",
       "      <td>0.919648</td>\n",
       "    </tr>\n",
       "    <tr>\n",
       "      <th>3</th>\n",
       "      <td>0.975</td>\n",
       "      <td>0.031</td>\n",
       "      <td>1.0</td>\n",
       "      <td>2.688915</td>\n",
       "      <td>2.831526</td>\n",
       "      <td>2.688915</td>\n",
       "      <td>2.831526</td>\n",
       "      <td>0.854379</td>\n",
       "    </tr>\n",
       "    <tr>\n",
       "      <th>4</th>\n",
       "      <td>0.970</td>\n",
       "      <td>0.037</td>\n",
       "      <td>1.0</td>\n",
       "      <td>3.441308</td>\n",
       "      <td>3.660274</td>\n",
       "      <td>3.441308</td>\n",
       "      <td>3.660274</td>\n",
       "      <td>0.775664</td>\n",
       "    </tr>\n",
       "    <tr>\n",
       "      <th>5</th>\n",
       "      <td>0.963</td>\n",
       "      <td>0.045</td>\n",
       "      <td>1.0</td>\n",
       "      <td>4.088643</td>\n",
       "      <td>4.407238</td>\n",
       "      <td>4.088643</td>\n",
       "      <td>4.407238</td>\n",
       "      <td>0.672206</td>\n",
       "    </tr>\n",
       "  </tbody>\n",
       "</table>\n",
       "</div>"
      ],
      "text/plain": [
       "       d    cds  alpha         A      Ahat         B      Bhat         Q\n",
       "T                                                                       \n",
       "0  1.000  0.000    0.0       NaN       NaN       NaN       NaN  1.000000\n",
       "1  0.987  0.020    1.0  0.954639  0.987000  0.954639  0.987000  0.967213\n",
       "2  0.980  0.025    1.0  1.855895  1.934869  1.855895  1.934869  0.919648\n",
       "3  0.975  0.031    1.0  2.688915  2.831526  2.688915  2.831526  0.854379\n",
       "4  0.970  0.037    1.0  3.441308  3.660274  3.441308  3.660274  0.775664\n",
       "5  0.963  0.045    1.0  4.088643  4.407238  4.088643  4.407238  0.672206"
      ]
     },
     "execution_count": 123,
     "metadata": {},
     "output_type": "execute_result"
    }
   ],
   "source": [
    "# Lecture 3: S35 example\n",
    "CDS_spreads = {\n",
    "    0: {'d':1, 'cds':0},\n",
    "    1: {'d':0.987, 'cds': 0.020},\n",
    "    2: {'d':0.98, 'cds': 0.025},\n",
    "    3: {'d':0.975, 'cds': 0.031},\n",
    "    4: {'d':0.97, 'cds': 0.037},\n",
    "    5: {'d':0.963, 'cds': 0.045}\n",
    "}\n",
    "bootstrap_survival_CDS(CDS_spreads)"
   ]
  },
  {
   "cell_type": "code",
   "execution_count": 126,
   "id": "eabdca66",
   "metadata": {},
   "outputs": [
    {
     "data": {
      "text/html": [
       "<div>\n",
       "<style scoped>\n",
       "    .dataframe tbody tr th:only-of-type {\n",
       "        vertical-align: middle;\n",
       "    }\n",
       "\n",
       "    .dataframe tbody tr th {\n",
       "        vertical-align: top;\n",
       "    }\n",
       "\n",
       "    .dataframe thead th {\n",
       "        text-align: right;\n",
       "    }\n",
       "</style>\n",
       "<table border=\"1\" class=\"dataframe\">\n",
       "  <thead>\n",
       "    <tr style=\"text-align: right;\">\n",
       "      <th></th>\n",
       "      <th>d</th>\n",
       "      <th>cds</th>\n",
       "      <th>alpha</th>\n",
       "      <th>A</th>\n",
       "      <th>Ahat</th>\n",
       "      <th>B</th>\n",
       "      <th>Bhat</th>\n",
       "      <th>Q</th>\n",
       "    </tr>\n",
       "    <tr>\n",
       "      <th>T</th>\n",
       "      <th></th>\n",
       "      <th></th>\n",
       "      <th></th>\n",
       "      <th></th>\n",
       "      <th></th>\n",
       "      <th></th>\n",
       "      <th></th>\n",
       "      <th></th>\n",
       "    </tr>\n",
       "  </thead>\n",
       "  <tbody>\n",
       "    <tr>\n",
       "      <th>0</th>\n",
       "      <td>1.000000</td>\n",
       "      <td>0.000</td>\n",
       "      <td>0.0</td>\n",
       "      <td>NaN</td>\n",
       "      <td>NaN</td>\n",
       "      <td>NaN</td>\n",
       "      <td>NaN</td>\n",
       "      <td>1.000000</td>\n",
       "    </tr>\n",
       "    <tr>\n",
       "      <th>1</th>\n",
       "      <td>0.960789</td>\n",
       "      <td>0.020</td>\n",
       "      <td>1.0</td>\n",
       "      <td>0.929288</td>\n",
       "      <td>0.960789</td>\n",
       "      <td>0.929288</td>\n",
       "      <td>0.960789</td>\n",
       "      <td>0.967213</td>\n",
       "    </tr>\n",
       "    <tr>\n",
       "      <th>2</th>\n",
       "      <td>0.904837</td>\n",
       "      <td>0.030</td>\n",
       "      <td>1.0</td>\n",
       "      <td>1.745762</td>\n",
       "      <td>1.862171</td>\n",
       "      <td>1.745762</td>\n",
       "      <td>1.835960</td>\n",
       "      <td>0.902343</td>\n",
       "    </tr>\n",
       "    <tr>\n",
       "      <th>3</th>\n",
       "      <td>0.852996</td>\n",
       "      <td>0.032</td>\n",
       "      <td>1.0</td>\n",
       "      <td>2.467727</td>\n",
       "      <td>2.704564</td>\n",
       "      <td>2.467727</td>\n",
       "      <td>2.605655</td>\n",
       "      <td>0.846388</td>\n",
       "    </tr>\n",
       "    <tr>\n",
       "      <th>4</th>\n",
       "      <td>0.780360</td>\n",
       "      <td>0.045</td>\n",
       "      <td>1.0</td>\n",
       "      <td>3.021872</td>\n",
       "      <td>3.492013</td>\n",
       "      <td>3.021872</td>\n",
       "      <td>3.266142</td>\n",
       "      <td>0.710114</td>\n",
       "    </tr>\n",
       "  </tbody>\n",
       "</table>\n",
       "</div>"
      ],
      "text/plain": [
       "          d    cds  alpha         A      Ahat         B      Bhat         Q\n",
       "T                                                                          \n",
       "0  1.000000  0.000    0.0       NaN       NaN       NaN       NaN  1.000000\n",
       "1  0.960789  0.020    1.0  0.929288  0.960789  0.929288  0.960789  0.967213\n",
       "2  0.904837  0.030    1.0  1.745762  1.862171  1.745762  1.835960  0.902343\n",
       "3  0.852996  0.032    1.0  2.467727  2.704564  2.467727  2.605655  0.846388\n",
       "4  0.780360  0.045    1.0  3.021872  3.492013  3.021872  3.266142  0.710114"
      ]
     },
     "execution_count": 126,
     "metadata": {},
     "output_type": "execute_result"
    }
   ],
   "source": [
    "# CW1\n",
    "CDS_spreads = {\n",
    "    0: {'d':1, 'cds':0},\n",
    "    1: {'d':discount(0.04,t=1), 'cds': 0.02},\n",
    "    2: {'d':discount(0.05,t=2), 'cds': 0.03},\n",
    "    3: {'d':discount(0.053, t=3), 'cds': 0.032},\n",
    "    4: {'d':discount(0.062, t=4), 'cds': 0.045},\n",
    "}\n",
    "bootstrap_survival_CDS(CDS_spreads)"
   ]
  },
  {
   "cell_type": "markdown",
   "id": "4d5df30e",
   "metadata": {},
   "source": [
    "# CVA"
   ]
  },
  {
   "cell_type": "markdown",
   "id": "7a33a7f1",
   "metadata": {},
   "source": [
    "Let us consider a 1 year forward contract on a commodity, which does not pay\n",
    "implied dividends (ie the convenience yield is zero). Let us set the risk-free rate at\n",
    "3%. The forward price is determined according to the usual no-arbitrage\n",
    "cash-and-carry formula"
   ]
  },
  {
   "cell_type": "code",
   "execution_count": 171,
   "id": "b3965e70",
   "metadata": {},
   "outputs": [],
   "source": [
    "S_t = 100\n",
    "rf = 0.03\n",
    "T = 1"
   ]
  },
  {
   "cell_type": "code",
   "execution_count": 173,
   "id": "a358553e",
   "metadata": {},
   "outputs": [],
   "source": [
    "F_tT = S_t*math.exp(rf*T)"
   ]
  },
  {
   "cell_type": "code",
   "execution_count": 174,
   "id": "6a1a6f85",
   "metadata": {},
   "outputs": [
    {
     "data": {
      "text/plain": [
       "103.0454533953517"
      ]
     },
     "execution_count": 174,
     "metadata": {},
     "output_type": "execute_result"
    }
   ],
   "source": [
    "F_tT"
   ]
  },
  {
   "cell_type": "code",
   "execution_count": null,
   "id": "070d4024",
   "metadata": {},
   "outputs": [],
   "source": []
  }
 ],
 "metadata": {
  "kernelspec": {
   "display_name": "Python 3 (ipykernel)",
   "language": "python",
   "name": "python3"
  },
  "language_info": {
   "codemirror_mode": {
    "name": "ipython",
    "version": 3
   },
   "file_extension": ".py",
   "mimetype": "text/x-python",
   "name": "python",
   "nbconvert_exporter": "python",
   "pygments_lexer": "ipython3",
   "version": "3.9.13"
  }
 },
 "nbformat": 4,
 "nbformat_minor": 5
}
