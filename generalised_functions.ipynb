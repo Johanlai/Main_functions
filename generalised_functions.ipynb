{
 "cells": [
  {
   "cell_type": "code",
   "execution_count": 7,
   "id": "1a6a35c2",
   "metadata": {},
   "outputs": [],
   "source": [
    "import math"
   ]
  },
  {
   "cell_type": "code",
   "execution_count": 8,
   "id": "5648ae45",
   "metadata": {},
   "outputs": [],
   "source": [
    "def price_risky_coupon_bond(term_structure, c, m, Rec, N=100):\n",
    "    \"\"\"\n",
    "    term stucture: nest dict of {dict: terms, keys: spot_rate, survival_prob}\n",
    "    \"\"\"\n",
    "    def discount(spot_rate, spot=True, t=1):\n",
    "        \"\"\"\n",
    "        or discount factor: spot_rate=False for reverse\n",
    "        \"\"\"\n",
    "        if spot==True:\n",
    "            return math.exp(-spot_rate*t)\n",
    "        else: return -np.log(spot_rate)/t\n",
    "    def sum1(term_structure):\n",
    "        sum = 0\n",
    "        for x in term_structure:\n",
    "            sum += discount(term_structure[x]['spot_rate'], t=x)*term_structure[x]['survival_prob']\n",
    "        return sum\n",
    "\n",
    "    def sum2(term_structure):\n",
    "        sum = 0\n",
    "        for i,x in enumerate(term_structure):\n",
    "            if i == 0:\n",
    "                sum += discount(term_structure[x]['spot_rate'], t=x)*\\\n",
    "                (1-term_structure[x]['survival_prob'])\n",
    "            else:\n",
    "                sum += discount(term_structure[x]['spot_rate'], t=x)*\\\n",
    "                (term_structure[list(term_structure)[i-1]]['survival_prob']-\\\n",
    "                 term_structure[x]['survival_prob'])\n",
    "        return sum\n",
    "    return (c/m)*N*sum1(term_structure) \\\n",
    "    + term_structure[list(term_structure)[-1]]['survival_prob']\\\n",
    "    * discount(term_structure[list(term_structure)[-1]]['spot_rate'],t=list(term_structure)[-1])*N\\\n",
    "    + N*Rec*sum2(term_structure)"
   ]
  },
  {
   "cell_type": "code",
   "execution_count": 9,
   "id": "e55149bc",
   "metadata": {},
   "outputs": [
    {
     "data": {
      "text/plain": [
       "99.50102576461744"
      ]
     },
     "execution_count": 9,
     "metadata": {},
     "output_type": "execute_result"
    }
   ],
   "source": [
    "#eg 1\n",
    "term_structure = {\n",
    "    0.5: {'spot_rate': 0.025, 'survival_prob': 0.93},\n",
    "    1: {'spot_rate': 0.03, 'survival_prob': 0.91}\n",
    "}\n",
    "price_risky_coupon_bond(term_structure, c=0.08, m=2, Rec=0.45)"
   ]
  },
  {
   "cell_type": "code",
   "execution_count": 10,
   "id": "f98fdcf1",
   "metadata": {},
   "outputs": [
    {
     "data": {
      "text/plain": [
       "0.9871920372218514"
      ]
     },
     "execution_count": 10,
     "metadata": {},
     "output_type": "execute_result"
    }
   ],
   "source": [
    "#eg 2\n",
    "term_structure = {\n",
    "    0.5: {'spot_rate': 0.03, 'survival_prob': 0.98},\n",
    "    1: {'spot_rate': 0.035, 'survival_prob': 0.94}\n",
    "}\n",
    "price_risky_coupon_bond(term_structure, c=0.06, m=2, Rec=0.4, N=1)"
   ]
  },
  {
   "cell_type": "code",
   "execution_count": 1,
   "id": "728cb07b",
   "metadata": {},
   "outputs": [
    {
     "ename": "NameError",
     "evalue": "name 'test' is not defined",
     "output_type": "error",
     "traceback": [
      "\u001b[1;31m---------------------------------------------------------------------------\u001b[0m",
      "\u001b[1;31mNameError\u001b[0m                                 Traceback (most recent call last)",
      "\u001b[1;32m~\\AppData\\Local\\Temp\\ipykernel_31372\\2074824509.py\u001b[0m in \u001b[0;36m<module>\u001b[1;34m\u001b[0m\n\u001b[1;32m----> 1\u001b[1;33m \u001b[0mtest\u001b[0m\u001b[1;33m\u001b[0m\u001b[1;33m\u001b[0m\u001b[0m\n\u001b[0m",
      "\u001b[1;31mNameError\u001b[0m: name 'test' is not defined"
     ]
    }
   ],
   "source": [
    "test"
   ]
  },
  {
   "cell_type": "code",
   "execution_count": null,
   "id": "d1850567",
   "metadata": {},
   "outputs": [],
   "source": []
  }
 ],
 "metadata": {
  "kernelspec": {
   "display_name": "Python 3 (ipykernel)",
   "language": "python",
   "name": "python3"
  },
  "language_info": {
   "codemirror_mode": {
    "name": "ipython",
    "version": 3
   },
   "file_extension": ".py",
   "mimetype": "text/x-python",
   "name": "python",
   "nbconvert_exporter": "python",
   "pygments_lexer": "ipython3",
   "version": "3.9.13"
  }
 },
 "nbformat": 4,
 "nbformat_minor": 5
}
